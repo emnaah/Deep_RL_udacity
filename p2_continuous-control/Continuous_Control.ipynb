{
 "cells": [
  {
   "cell_type": "markdown",
   "metadata": {},
   "source": [
    "# Continuous Control\n",
    "\n",
    "---\n",
    "\n",
    "In this notebook, you will learn how to use the Unity ML-Agents environment for the second project of the [Deep Reinforcement Learning Nanodegree](https://www.udacity.com/course/deep-reinforcement-learning-nanodegree--nd893) program.\n",
    "\n",
    "### 1. Start the Environment\n",
    "\n",
    "We begin by importing the necessary packages.  If the code cell below returns an error, please revisit the project instructions to double-check that you have installed [Unity ML-Agents](https://github.com/Unity-Technologies/ml-agents/blob/master/docs/Installation.md) and [NumPy](http://www.numpy.org/)."
   ]
  },
  {
   "cell_type": "code",
   "execution_count": 1,
   "metadata": {},
   "outputs": [],
   "source": [
    "from unityagents import UnityEnvironment\n",
    "import numpy as np\n",
    "from ddpg import ddpg\n",
    "import matplotlib.pyplot as plt\n",
    "from ddpg_agent import Agent\n"
   ]
  },
  {
   "cell_type": "markdown",
   "metadata": {},
   "source": [
    "Next, we will start the environment!  **_Before running the code cell below_**, change the `file_name` parameter to match the location of the Unity environment that you downloaded.\n",
    "\n",
    "- **Mac**: `\"path/to/Reacher.app\"`\n",
    "- **Windows** (x86): `\"path/to/Reacher_Windows_x86/Reacher.exe\"`\n",
    "- **Windows** (x86_64): `\"path/to/Reacher_Windows_x86_64/Reacher.exe\"`\n",
    "- **Linux** (x86): `\"path/to/Reacher_Linux/Reacher.x86\"`\n",
    "- **Linux** (x86_64): `\"path/to/Reacher_Linux/Reacher.x86_64\"`\n",
    "- **Linux** (x86, headless): `\"path/to/Reacher_Linux_NoVis/Reacher.x86\"`\n",
    "- **Linux** (x86_64, headless): `\"path/to/Reacher_Linux_NoVis/Reacher.x86_64\"`\n",
    "\n",
    "For instance, if you are using a Mac, then you downloaded `Reacher.app`.  If this file is in the same folder as the notebook, then the line below should appear as follows:\n",
    "```\n",
    "env = UnityEnvironment(file_name=\"Reacher.app\")\n",
    "```"
   ]
  },
  {
   "cell_type": "code",
   "execution_count": 2,
   "metadata": {
    "tags": []
   },
   "outputs": [
    {
     "name": "stderr",
     "output_type": "stream",
     "text": [
      "INFO:unityagents:\n",
      "'Academy' started successfully!\n",
      "Unity Academy name: Academy\n",
      "        Number of Brains: 1\n",
      "        Number of External Brains : 1\n",
      "        Lesson number : 0\n",
      "        Reset Parameters :\n",
      "\t\tgoal_size -> 5.0\n",
      "\t\tgoal_speed -> 1.0\n",
      "Unity brain name: ReacherBrain\n",
      "        Number of Visual Observations (per agent): 0\n",
      "        Vector Observation space type: continuous\n",
      "        Vector Observation space size (per agent): 33\n",
      "        Number of stacked Vector Observation: 1\n",
      "        Vector Action space type: continuous\n",
      "        Vector Action space size (per agent): 4\n",
      "        Vector Action descriptions: , , , \n"
     ]
    }
   ],
   "source": [
    "env = UnityEnvironment(file_name='env/Reacher_Linux/Reacher_Linux/Reacher.x86');"
   ]
  },
  {
   "cell_type": "markdown",
   "metadata": {},
   "source": [
    "Environments contain **_brains_** which are responsible for deciding the actions of their associated agents. Here we check for the first brain available, and set it as the default brain we will be controlling from Python."
   ]
  },
  {
   "cell_type": "code",
   "execution_count": 3,
   "metadata": {},
   "outputs": [],
   "source": [
    "# get the default brain\n",
    "brain_name = env.brain_names[0]\n",
    "brain = env.brains[brain_name]"
   ]
  },
  {
   "cell_type": "markdown",
   "metadata": {},
   "source": [
    "### 2. Examine the State and Action Spaces\n",
    "\n",
    "In this environment, a double-jointed arm can move to target locations. A reward of `+0.1` is provided for each step that the agent's hand is in the goal location. Thus, the goal of your agent is to maintain its position at the target location for as many time steps as possible.\n",
    "\n",
    "The observation space consists of `33` variables corresponding to position, rotation, velocity, and angular velocities of the arm.  Each action is a vector with four numbers, corresponding to torque applicable to two joints.  Every entry in the action vector must be a number between `-1` and `1`.\n",
    "\n",
    "Run the code cell below to print some information about the environment."
   ]
  },
  {
   "cell_type": "code",
   "execution_count": 4,
   "metadata": {
    "tags": []
   },
   "outputs": [
    {
     "name": "stdout",
     "output_type": "stream",
     "text": [
      "Number of agents: 1\n",
      "Size of each action: 4\n",
      "There are 1 agents. Each observes a state with length: 33\n",
      "The state for the first agent looks like: [ 0.00000000e+00 -4.00000000e+00  0.00000000e+00  1.00000000e+00\n",
      " -0.00000000e+00 -0.00000000e+00 -4.37113883e-08  0.00000000e+00\n",
      "  0.00000000e+00  0.00000000e+00  0.00000000e+00  0.00000000e+00\n",
      "  0.00000000e+00  0.00000000e+00 -1.00000000e+01  0.00000000e+00\n",
      "  1.00000000e+00 -0.00000000e+00 -0.00000000e+00 -4.37113883e-08\n",
      "  0.00000000e+00  0.00000000e+00  0.00000000e+00  0.00000000e+00\n",
      "  0.00000000e+00  0.00000000e+00  5.75471878e+00 -1.00000000e+00\n",
      "  5.55726671e+00  0.00000000e+00  1.00000000e+00  0.00000000e+00\n",
      " -1.68164849e-01]\n"
     ]
    }
   ],
   "source": [
    "# reset the environment\n",
    "env_info = env.reset(train_mode=True)[brain_name]\n",
    "\n",
    "# number of agents\n",
    "num_agents = len(env_info.agents)\n",
    "print('Number of agents:', num_agents)\n",
    "\n",
    "# size of each action\n",
    "action_size = brain.vector_action_space_size\n",
    "print('Size of each action:', action_size)\n",
    "\n",
    "# examine the state space \n",
    "states = env_info.vector_observations\n",
    "state_size = states.shape[1]\n",
    "print('There are {} agents. Each observes a state with length: {}'.format(states.shape[0], state_size))\n",
    "print('The state for the first agent looks like:', states[0])"
   ]
  },
  {
   "cell_type": "markdown",
   "metadata": {},
   "source": [
    "### 3. Take Random Actions in the Environment\n",
    "\n",
    "In the next code cell, you will learn how to use the Python API to control the agent and receive feedback from the environment.\n",
    "\n",
    "Once this cell is executed, you will watch the agent's performance, if it selects an action at random with each time step.  A window should pop up that allows you to observe the agent, as it moves through the environment.  \n",
    "\n",
    "Of course, as part of the project, you'll have to change the code so that the agent is able to use its experience to gradually choose better actions when interacting with the environment!"
   ]
  },
  {
   "cell_type": "code",
   "execution_count": null,
   "metadata": {
    "tags": []
   },
   "outputs": [],
   "source": [
    "env_info = env.reset(train_mode=False)[brain_name]     # reset the environment    \n",
    "states = env_info.vector_observations                  # get the current state (for each agent)\n",
    "scores = np.zeros(num_agents)                          # initialize the score (for each agent)\n",
    "while True:\n",
    "    actions = np.random.randn(num_agents, action_size) # select an action (for each agent)\n",
    "    actions = np.clip(actions, -1, 1)                  # all actions between -1 and 1\n",
    "    env_info = env.step(actions)[brain_name]           # send all actions to tne environment\n",
    "    next_states = env_info.vector_observations         # get next state (for each agent)\n",
    "    rewards = env_info.rewards                         # get reward (for each agent)\n",
    "    dones = env_info.local_done                        # see if episode finished\n",
    "    scores += env_info.rewards                         # update the score (for each agent)\n",
    "    states = next_states                               # roll over states to next time step\n",
    "    if np.any(dones):                                  # exit loop if episode finished\n",
    "        break\n",
    "print('Total score (averaged over agents) this episode: {}'.format(np.mean(scores)))"
   ]
  },
  {
   "cell_type": "markdown",
   "metadata": {},
   "source": [
    "When finished, you can close the environment."
   ]
  },
  {
   "cell_type": "code",
   "execution_count": null,
   "metadata": {},
   "outputs": [],
   "source": [
    "env.close()"
   ]
  },
  {
   "cell_type": "markdown",
   "metadata": {},
   "source": [
    "### 4. It's Your Turn!\n",
    "\n",
    "Now it's your turn to train your own agent to solve the environment!  When training the environment, set `train_mode=True`, so that the line for resetting the environment looks like the following:\n",
    "```python\n",
    "env_info = env.reset(train_mode=True)[brain_name]\n",
    "```"
   ]
  },
  {
   "cell_type": "code",
   "execution_count": 4,
   "metadata": {},
   "outputs": [
    {
     "name": "stderr",
     "output_type": "stream",
     "text": [
      "/home/emna/anaconda3/envs/py37/lib/python3.6/site-packages/torch/nn/functional.py:1558: UserWarning: nn.functional.tanh is deprecated. Use torch.tanh instead.\n",
      "  warnings.warn(\"nn.functional.tanh is deprecated. Use torch.tanh instead.\")\n"
     ]
    },
    {
     "name": "stdout",
     "output_type": "stream",
     "text": [
      "Episode 100\tAverage Score: 20.00\n",
      "Episode 137\tAverage Score: 30.25env solved in 137 episodes\n",
      "Episode 200\tAverage Score: 34.43\n",
      "Episode 300\tAverage Score: 34.38\n",
      "[0.1599999964237213, 0.7599999830126762, 2.0399999544024467, 1.7199999615550041, 2.109999952837825, 0.0, 1.2799999713897705, 2.729999938979745, 2.6699999403208494, 1.389999968931079, 3.1499999295920134, 2.2599999494850636, 3.589999919757247, 1.269999971613288, 13.449999699369073, 6.649999851360917, 5.959999866783619, 1.1899999734014273, 6.909999845549464, 3.899999912828207, 1.8699999582022429, 3.9599999114871025, 20.549999540671706, 5.749999871477485, 7.529999831691384, 10.409999767318368, 6.149999862536788, 11.34999974630773, 6.259999860078096, 8.32999981380999, 6.989999843761325, 13.39999970048666, 11.259999748319387, 6.009999865666032, 15.479999653995037, 11.449999744072556, 7.039999842643738, 24.27999945729971, 19.04999957419932, 20.749999536201358, 19.189999571070075, 24.609999449923635, 19.299999568611383, 17.23999961465597, 21.629999516531825, 13.879999689757824, 27.639999382197857, 33.33999925479293, 27.819999378174543, 21.619999516755342, 28.489999363198876, 28.599999360740185, 31.20999930240214, 32.739999268203974, 34.97999921813607, 35.63999920338392, 29.5099993404001, 26.549999406561255, 18.08999959565699, 24.679999448359013, 35.11999921500683, 19.78999955765903, 38.72999913431704, 13.269999703392386, 29.539999339729548, 30.339999321848154, 20.189999548718333, 34.26999923400581, 25.159999437630177, 30.999999307096004, 23.77999946847558, 36.91999917477369, 17.709999604150653, 21.2999995239079, 21.099999528378248, 23.109999483451247, 30.94999930821359, 33.71999924629927, 28.26999936811626, 29.31999934464693, 36.60999918170273, 30.779999312013388, 35.22999921254814, 39.4999991171062, 27.989999374374747, 33.4699992518872, 33.019999261945486, 31.939999286085367, 39.559999115765095, 35.98999919556081, 39.6699991133064, 33.72999924607575, 36.579999182373285, 30.849999310448766, 32.91999926418066, 21.199999526143074, 31.98999928496778, 32.75999926775694, 27.99999937415123, 26.939999397844076, 30.66999931447208, 28.249999368563294, 17.719999603927135, 27.9599993750453, 25.359999433159828, 34.799999222159386, 29.929999331012368, 24.769999446347356, 37.12999917007983, 34.559999227523804, 36.08999919332564, 35.44999920763075, 36.309999188408256, 27.53999938443303, 34.33999923244119, 28.559999361634254, 38.279999144375324, 34.569999227300286, 32.749999267980456, 39.479999117553234, 38.76999913342297, 31.459999296814203, 37.699999157339334, 33.88999924249947, 38.22999914549291, 38.14999914728105, 36.48999918438494, 36.849999176338315, 37.16999916918576, 34.06999923847616, 34.74999922327697, 33.41999925300479, 30.27999932318926, 32.88999926485121, 36.849999176338315, 38.05999914929271, 38.60999913699925, 37.52999916113913, 35.189999213442206, 36.43999918550253, 35.85999919846654, 36.079999193549156, 33.299999255687, 37.2599991671741, 37.43999916315079, 34.04999923892319, 35.799999199807644, 33.42999925278127, 32.78999926708639, 30.499999318271875, 39.58999911509454, 35.529999205842614, 35.92999919690192, 37.79999915510416, 32.709999268874526, 28.089999372139573, 34.799999222159386, 38.21999914571643, 19.199999570846558, 36.59999918192625, 37.10999917052686, 34.839999221265316, 35.54999920539558, 33.71999924629927, 37.739999156445265, 37.549999160692096, 38.6399991363287, 34.989999217912555, 35.38999920897186, 37.74999915622175, 29.299999345093966, 38.60999913699925, 29.999999329447746, 30.39999932050705, 35.69999920204282, 35.32999921031296, 38.899999130517244, 30.619999315589666, 33.6999992467463, 30.74999931268394, 35.11999921500683, 38.64999913610518, 33.68999924696982, 38.49999913945794, 33.289999255910516, 37.549999160692096, 35.77999920025468, 34.34999923221767, 36.67999918013811, 36.95999917387962, 27.059999395161867, 38.46999914012849, 38.4099991414696, 34.16999923624098, 31.419999297708273, 36.23999918997288, 39.17999912425876, 30.429999319836497, 37.10999917052686, 36.849999176338315, 35.44999920763075, 38.5799991376698, 34.329999232664704, 37.509999161586165, 29.7399993352592, 35.28999921120703, 35.89999919757247, 26.95999939739704, 32.30999927781522, 31.399999298155308, 38.749999133870006, 36.729999179020524, 37.87999915331602, 32.709999268874526, 25.279999434947968, 38.59999913722277, 38.49999913945794, 38.65999913588166, 39.08999912627041, 35.58999920450151, 38.37999914214015, 37.72999915666878, 37.44999916292727, 34.949999218806624, 36.81999917700887, 32.13999928161502, 37.99999915063381, 25.229999436065555, 39.04999912716448, 27.829999377951026, 29.869999332353473, 39.479999117553234, 38.67999913543463, 37.59999915957451, 31.859999287873507, 37.199999168515205, 39.17999912425876, 35.54999920539558, 27.9599993750453, 35.86999919824302, 36.379999186843634, 36.87999917566776, 30.149999326094985, 34.54999922774732, 39.25999912247062, 37.75999915599823, 30.70999931357801, 34.53999922797084, 39.02999912761152, 24.579999450594187, 38.07999914884567, 35.26999921165407, 17.419999610632658, 37.0899991709739, 35.5399992056191, 30.85999931022525, 31.299999300390482, 36.069999193772674, 30.299999322742224, 28.939999353140593, 32.3799992762506, 38.33999914303422, 32.509999273344874, 38.549999138340354, 38.38999914191663, 39.31999912112951, 35.23999921232462, 33.38999925367534, 24.179999459534883, 39.409999119117856, 20.709999537095428, 35.44999920763075, 37.76999915577471, 33.88999924249947, 30.429999319836497, 29.7399993352592, 36.32999918796122, 36.229999190196395, 35.61999920383096, 38.239999145269394, 32.8399992659688, 29.499999340623617, 37.319999165832996, 30.719999313354492, 36.999999172985554, 37.929999152198434, 33.45999925211072, 30.47999931871891, 36.189999191090465, 32.52999927289784, 34.74999922327697, 36.6299991812557, 31.049999305978417, 34.799999222159386, 26.829999400302768, 37.55999916046858, 38.87999913096428, 35.84999919869006, 35.879999198019505, 36.7999991774559]\n"
     ]
    }
   ],
   "source": [
    "env_info = env.reset(train_mode=True)[brain_name]\n",
    "\n",
    "# number of actions and states\n",
    "action_size = brain.vector_action_space_size\n",
    "state = env_info.vector_observations[0]\n",
    "state_size = len(state)\n",
    "\n",
    "agent = Agent(state_size=state_size, action_size=action_size, random_seed=2)\n",
    "\n",
    "scores = ddpg(env,brain_name,agent,n_episodes=300, max_t=1000, print_every=100)\n",
    "print(scores)\n",
    "\n"
   ]
  },
  {
   "cell_type": "code",
   "execution_count": 5,
   "metadata": {},
   "outputs": [
    {
     "data": {
      "image/png": "[encoded data removed]",
      "text/plain": [
       "<Figure size 432x288 with 1 Axes>"
      ]
     },
     "metadata": {
      "needs_background": "light"
     },
     "output_type": "display_data"
    }
   ],
   "source": [
    "fig = plt.figure()\n",
    "ax = fig.add_subplot(111)\n",
    "plt.plot(np.arange(1, len(scores) + 1), scores)\n",
    "plt.ylabel(\"Score\")\n",
    "plt.xlabel(\"Episode #\")\n",
    "plt.show()"
   ]
  },
  {
   "cell_type": "code",
   "execution_count": null,
   "metadata": {},
   "outputs": [],
   "source": []
  }
 ],
 "metadata": {
  "kernelspec": {
   "display_name": "drlnd",
   "language": "python",
   "name": "drlnd"
  },
  "language_info": {
   "codemirror_mode": {
    "name": "ipython",
    "version": 3
   },
   "file_extension": ".py",
   "mimetype": "text/x-python",
   "name": "python",
   "nbconvert_exporter": "python",
   "pygments_lexer": "ipython3",
   "version": "3.6.10"
  }
 },
 "nbformat": 4,
 "nbformat_minor": 2
}
